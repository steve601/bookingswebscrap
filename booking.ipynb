{
 "cells": [
  {
   "cell_type": "markdown",
   "id": "8f686923-8a3f-4b06-acf9-d68d747e979b",
   "metadata": {},
   "source": [
    "## importing core libraries"
   ]
  },
  {
   "cell_type": "code",
   "execution_count": 1,
   "id": "03660912-5dce-4266-8a49-7dfb28f384f1",
   "metadata": {},
   "outputs": [],
   "source": [
    "from selenium import webdriver\n",
    "import time\n",
    "from selenium.webdriver.support.ui import WebDriverWait\n",
    "from selenium.webdriver.support import expected_conditions as EC\n",
    "from selenium.webdriver.chrome.service import Service\n",
    "from selenium.webdriver.common.by import By\n",
    "from bs4 import BeautifulSoup\n",
    "from selenium.webdriver.common.keys import Keys\n",
    "import pandas as pd"
   ]
  },
  {
   "cell_type": "markdown",
   "id": "f1c3edd3-2026-42dc-b6e4-216d9b46c8d2",
   "metadata": {},
   "source": [
    "## initializing web driver"
   ]
  },
  {
   "cell_type": "code",
   "execution_count": 2,
   "id": "53c8355c-37ab-482e-9810-4e7af6042030",
   "metadata": {},
   "outputs": [],
   "source": [
    "service = Service(executable_path=\"chromedriver.exe\")\n",
    "# let's initialize the driver\n",
    "driver = webdriver.Chrome(service=service)"
   ]
  },
  {
   "cell_type": "code",
   "execution_count": 3,
   "id": "23bc9c91-7dda-49f2-842f-99a2d9ee5e4e",
   "metadata": {},
   "outputs": [],
   "source": [
    "url = 'https://booking.com.com/'\n",
    "driver.get(url)"
   ]
  },
  {
   "cell_type": "markdown",
   "id": "f22d1f3f-bd5c-4451-b3d0-60453dabbc7d",
   "metadata": {},
   "source": [
    "## bypassing the sign in button"
   ]
  },
  {
   "cell_type": "code",
   "execution_count": 4,
   "id": "b8f4a2c7-4550-455a-a05e-8de529d6ae7d",
   "metadata": {},
   "outputs": [],
   "source": [
    "close_btn = driver.find_element(By.CSS_SELECTOR,\"#b2indexPage > div.a1b9d2f057.c20dffcd7d > div > div > div > div.f39d206191 > div.d5b096843d.a3b6061a26.f3ec6922b3 > div > button > span > span > svg\")\n",
    "try:\n",
    "    close_btn.click()\n",
    "except:\n",
    "    pass"
   ]
  },
  {
   "cell_type": "markdown",
   "id": "279122be-9995-420a-81ed-8ea30c92d937",
   "metadata": {},
   "source": [
    "## clicking the destination tab then typing 'Nairobi'"
   ]
  },
  {
   "cell_type": "code",
   "execution_count": 10,
   "id": "efaf11b5-806e-46be-87a5-63a622dc499f",
   "metadata": {},
   "outputs": [],
   "source": [
    "dest = driver.find_element(By.XPATH,\"//input[@class='c-autocomplete__input sb-searchbox__input sb-destination__input']\")\n",
    "dest.click()\n",
    "dest.send_keys('Nairobi'+Keys.ENTER)"
   ]
  },
  {
   "cell_type": "markdown",
   "id": "e4dca575-ce20-408d-b588-f950f02609b9",
   "metadata": {},
   "source": [
    "## selecting the preferred date"
   ]
  },
  {
   "cell_type": "code",
   "execution_count": 13,
   "id": "f81564cc-e504-4e53-abe0-10aaf62937c6",
   "metadata": {},
   "outputs": [],
   "source": [
    "calender = driver.find_element(By.XPATH,\"//button[@aria-controls='flexible-searchboxdatepicker']\")\n",
    "calender.click()"
   ]
  },
  {
   "cell_type": "code",
   "execution_count": 15,
   "id": "01060b4b-43b7-4630-a8d3-41987f1e40ea",
   "metadata": {},
   "outputs": [],
   "source": [
    "month_radio = driver.find_element(By.XPATH,\"//input[@id=':rpp:']\")\n",
    "month_radio.click()"
   ]
  },
  {
   "cell_type": "code",
   "execution_count": 16,
   "id": "d1baa255-557d-436e-8397-5ab7cdf49516",
   "metadata": {},
   "outputs": [],
   "source": [
    "september = driver.find_element(By.XPATH, \"//span[contains(text(), 'Sep')]\")\n",
    "september.click()"
   ]
  },
  {
   "cell_type": "code",
   "execution_count": 17,
   "id": "a9e8e5b2-ed26-4d67-bb54-689cb6d456fb",
   "metadata": {},
   "outputs": [],
   "source": [
    "select = driver.find_element(By.XPATH, \"//span[contains(text(), 'Select dates')]\")\n",
    "select.click()"
   ]
  },
  {
   "cell_type": "markdown",
   "id": "5c368138-849c-44c0-a7ea-e4c328846655",
   "metadata": {},
   "source": [
    "## searching for available spaces"
   ]
  },
  {
   "cell_type": "code",
   "execution_count": 22,
   "id": "3a3685f3-8425-4551-a8a0-c080fecb3f21",
   "metadata": {},
   "outputs": [],
   "source": [
    "search_btn = driver.find_element(By.XPATH, \"//span[contains(text(), 'Search')]\")\n",
    "search_btn.click()"
   ]
  },
  {
   "cell_type": "markdown",
   "id": "0789c727-b662-4a02-bb62-0e91f1f6d658",
   "metadata": {},
   "source": [
    "## initializing bs4 in the target page"
   ]
  },
  {
   "cell_type": "code",
   "execution_count": 23,
   "id": "c825c53e-cd79-4822-8dcf-fcf27930c462",
   "metadata": {},
   "outputs": [],
   "source": [
    "time.sleep(10)\n",
    "\n",
    "html = driver.page_source\n",
    "soup = BeautifulSoup(html, 'html.parser')"
   ]
  },
  {
   "cell_type": "markdown",
   "id": "2e1dc11f-57b7-4eee-8d87-c978962d3242",
   "metadata": {},
   "source": [
    "## scraping hotel names and appending them in a list"
   ]
  },
  {
   "cell_type": "code",
   "execution_count": 24,
   "id": "d6cd1a43-49f2-4fad-8b99-d7440dc575b3",
   "metadata": {},
   "outputs": [],
   "source": [
    "Hotels = soup.find_all('div',class_ = 'e037993315 f5f8fe25fa')"
   ]
  },
  {
   "cell_type": "code",
   "execution_count": 26,
   "id": "8bc4b11c-2da4-4863-b343-e460d36c290e",
   "metadata": {},
   "outputs": [],
   "source": [
    "hotels = []\n",
    "for ht in Hotels:\n",
    "    hotels.append(ht.text)"
   ]
  },
  {
   "cell_type": "code",
   "execution_count": 27,
   "id": "f0b2b117-ab40-4033-941f-ed76513597fc",
   "metadata": {},
   "outputs": [
    {
     "data": {
      "text/plain": [
       "163"
      ]
     },
     "execution_count": 27,
     "metadata": {},
     "output_type": "execute_result"
    }
   ],
   "source": [
    "len(hotels)"
   ]
  },
  {
   "cell_type": "code",
   "execution_count": 28,
   "id": "3fa54509-ef2b-429d-ae09-3dc28f657400",
   "metadata": {},
   "outputs": [
    {
     "data": {
      "text/plain": [
       "['Erivy Kenyan Paradise',\n",
       " 'Marrkson Suites',\n",
       " 'Epitome Times Hotel',\n",
       " 'Fahari Bliss Hotel',\n",
       " 'Plus254 Hotel']"
      ]
     },
     "execution_count": 28,
     "metadata": {},
     "output_type": "execute_result"
    }
   ],
   "source": [
    "hotels[:5]"
   ]
  },
  {
   "cell_type": "markdown",
   "id": "f9b6aa4c-27c5-43fc-af6c-a763609e59bc",
   "metadata": {},
   "source": [
    "## scraping hotel description and appending into a list"
   ]
  },
  {
   "cell_type": "code",
   "execution_count": 29,
   "id": "78c96f5a-aac5-4b49-ae36-61c478d87059",
   "metadata": {},
   "outputs": [],
   "source": [
    "descriptions = soup.find_all('h4',class_='e8acaa0d22 e7baf22fe8')"
   ]
  },
  {
   "cell_type": "code",
   "execution_count": 31,
   "id": "157b2e63-d883-40a0-986d-3736d0d478a1",
   "metadata": {},
   "outputs": [],
   "source": [
    "hotel_desc = []\n",
    "for der in descriptions:\n",
    "    hotel_desc.append(der.text)"
   ]
  },
  {
   "cell_type": "code",
   "execution_count": 32,
   "id": "e6db66a0-5cf0-443c-8ee4-c8ee55801a36",
   "metadata": {},
   "outputs": [
    {
     "data": {
      "text/plain": [
       "163"
      ]
     },
     "execution_count": 32,
     "metadata": {},
     "output_type": "execute_result"
    }
   ],
   "source": [
    "len(hotel_desc)"
   ]
  },
  {
   "cell_type": "markdown",
   "id": "8fe8984f-7994-474f-abf7-90169019040a",
   "metadata": {},
   "source": [
    "## extracting hotel location then creating a list"
   ]
  },
  {
   "cell_type": "code",
   "execution_count": 33,
   "id": "af5e35cc-d29d-4706-9fc4-3e49852f1568",
   "metadata": {},
   "outputs": [],
   "source": [
    "locs = soup.find_all('span',class_='cf35c10683 d57d1b7d64')"
   ]
  },
  {
   "cell_type": "code",
   "execution_count": 35,
   "id": "46da9469-75a8-457a-8dbe-63b314d37e71",
   "metadata": {},
   "outputs": [],
   "source": [
    "location = []\n",
    "for loc in locs:\n",
    "    location.append(loc.text)"
   ]
  },
  {
   "cell_type": "code",
   "execution_count": 36,
   "id": "5c5dfe7a-18db-45a7-b43e-0fcea41bd83a",
   "metadata": {},
   "outputs": [
    {
     "data": {
      "text/plain": [
       "326"
      ]
     },
     "execution_count": 36,
     "metadata": {},
     "output_type": "execute_result"
    }
   ],
   "source": [
    "len(location)"
   ]
  },
  {
   "cell_type": "code",
   "execution_count": 37,
   "id": "b985a979-6b25-4128-af88-ace3616fd678",
   "metadata": {},
   "outputs": [
    {
     "data": {
      "text/plain": [
       "['Nairobi',\n",
       " 'Show on map',\n",
       " 'Kilimani, Nairobi',\n",
       " 'Show on map',\n",
       " 'Nairobi CBD, Nairobi',\n",
       " 'Show on map',\n",
       " 'Nairobi CBD, Nairobi',\n",
       " 'Show on map',\n",
       " 'Nairobi',\n",
       " 'Show on map']"
      ]
     },
     "execution_count": 37,
     "metadata": {},
     "output_type": "execute_result"
    }
   ],
   "source": [
    "location[:10]"
   ]
  },
  {
   "cell_type": "code",
   "execution_count": 39,
   "id": "4d59830d-35dd-45fa-9613-d160a09c3b73",
   "metadata": {},
   "outputs": [
    {
     "data": {
      "text/plain": [
       "['Nairobi',\n",
       " 'Kilimani, Nairobi',\n",
       " 'Nairobi CBD, Nairobi',\n",
       " 'Nairobi CBD, Nairobi',\n",
       " 'Nairobi',\n",
       " 'Nairobi CBD, Nairobi',\n",
       " 'Nairobi CBD, Nairobi',\n",
       " 'Nairobi',\n",
       " 'Nairobi',\n",
       " 'Nairobi']"
      ]
     },
     "execution_count": 39,
     "metadata": {},
     "output_type": "execute_result"
    }
   ],
   "source": [
    "hotel_location = [location[x] for x in range(0,326,2)]\n",
    "hotel_location[:10]"
   ]
  },
  {
   "cell_type": "markdown",
   "id": "a404645e-a378-4fb0-b820-3e61d5219a53",
   "metadata": {},
   "source": [
    "## extracting distances"
   ]
  },
  {
   "cell_type": "code",
   "execution_count": 45,
   "id": "eaeaa6fe-6fd2-49e7-b99d-277bc0bca8af",
   "metadata": {},
   "outputs": [],
   "source": [
    "distances = soup.find_all('span',{'data-testid' :'distance'})"
   ]
  },
  {
   "cell_type": "code",
   "execution_count": 47,
   "id": "3e7eb6da-f6c2-4e72-8580-ed538a866ed6",
   "metadata": {},
   "outputs": [],
   "source": [
    "Hotel_dist = list()\n",
    "for dt in distances:\n",
    "    Hotel_dist.append(dt.text)"
   ]
  },
  {
   "cell_type": "code",
   "execution_count": 48,
   "id": "6e9df222-6e1f-4845-a301-6ef3cad5c288",
   "metadata": {},
   "outputs": [
    {
     "data": {
      "text/plain": [
       "163"
      ]
     },
     "execution_count": 48,
     "metadata": {},
     "output_type": "execute_result"
    }
   ],
   "source": [
    "len(Hotel_dist)"
   ]
  },
  {
   "cell_type": "markdown",
   "id": "7ca42fa0-b385-4401-8298-12afd8af3c79",
   "metadata": {},
   "source": [
    "## scraping prices and ratings"
   ]
  },
  {
   "cell_type": "code",
   "execution_count": 55,
   "id": "33a741cd-88b4-481b-aac8-138f6a6c1124",
   "metadata": {},
   "outputs": [],
   "source": [
    "price_and_ratings = soup.find_all('div',class_='a447b19dfd')"
   ]
  },
  {
   "cell_type": "code",
   "execution_count": 56,
   "id": "56577332-b6ba-4175-b48b-97f8f5427a6a",
   "metadata": {},
   "outputs": [],
   "source": [
    "Ratings = []\n",
    "for rate in price_and_ratings:\n",
    "    Ratings.append(rate.text)"
   ]
  },
  {
   "cell_type": "code",
   "execution_count": 57,
   "id": "5c1dc38d-0430-4948-a497-fda5c1daed9b",
   "metadata": {},
   "outputs": [
    {
     "data": {
      "text/plain": [
       "['Opens in new window',\n",
       " 'Scored 8.1 ',\n",
       " 'Price KES\\xa095,521',\n",
       " 'Opens in new window',\n",
       " 'Scored 7.8 ',\n",
       " 'Price KES\\xa0190,323',\n",
       " 'Opens in new window',\n",
       " 'Scored 6.8 ',\n",
       " 'Price KES\\xa036,844',\n",
       " 'Opens in new window']"
      ]
     },
     "execution_count": 57,
     "metadata": {},
     "output_type": "execute_result"
    }
   ],
   "source": [
    "Ratings[:10]"
   ]
  },
  {
   "cell_type": "code",
   "execution_count": 59,
   "id": "2a48ef20-4bc9-46bd-9d1b-7ecaf379c98b",
   "metadata": {},
   "outputs": [
    {
     "data": {
      "text/plain": [
       "['Scored 8.1 ', 'Scored 7.8 ', 'Scored 6.8 ', 'Scored 5.9 ', 'Scored 7.0 ']"
      ]
     },
     "execution_count": 59,
     "metadata": {},
     "output_type": "execute_result"
    }
   ],
   "source": [
    "hotel_ratings =  [Ratings[i] for i in range(1,len(Ratings),3)]\n",
    "hotel_ratings[:5]"
   ]
  },
  {
   "cell_type": "code",
   "execution_count": 60,
   "id": "ece0b60c-8da8-40a5-8e24-fe5f7af363e2",
   "metadata": {},
   "outputs": [
    {
     "data": {
      "text/plain": [
       "['Price KES\\xa095,521',\n",
       " 'Price KES\\xa0190,323',\n",
       " 'Price KES\\xa036,844',\n",
       " 'Price KES\\xa038,783',\n",
       " 'Price KES\\xa042,122']"
      ]
     },
     "execution_count": 60,
     "metadata": {},
     "output_type": "execute_result"
    }
   ],
   "source": [
    "hotel_price = [Ratings[i] for i in range(2,len(Ratings),3)]\n",
    "hotel_price[:5]"
   ]
  },
  {
   "cell_type": "code",
   "execution_count": 62,
   "id": "03e12168-fe40-4081-a501-3125f199adce",
   "metadata": {},
   "outputs": [],
   "source": [
    "Prices = []\n",
    "for i in hotel_price:\n",
    "    Prices.append(i.replace('\\xa0',\" \"))"
   ]
  },
  {
   "cell_type": "code",
   "execution_count": 63,
   "id": "6ca89c7c-8fa0-442d-ae3a-4c3d46f7b712",
   "metadata": {},
   "outputs": [
    {
     "data": {
      "text/plain": [
       "['Price KES 95,521',\n",
       " 'Price KES 190,323',\n",
       " 'Price KES 36,844',\n",
       " 'Price KES 38,783',\n",
       " 'Price KES 42,122']"
      ]
     },
     "execution_count": 63,
     "metadata": {},
     "output_type": "execute_result"
    }
   ],
   "source": [
    "Prices[:5]"
   ]
  },
  {
   "cell_type": "markdown",
   "id": "557da4a7-2e1b-4b6f-be39-61a97e98560a",
   "metadata": {},
   "source": [
    "## scraping urls for the sample image of the hotel"
   ]
  },
  {
   "cell_type": "code",
   "execution_count": 64,
   "id": "0649c1e7-53db-466f-8853-4912be204440",
   "metadata": {},
   "outputs": [],
   "source": [
    "urls = soup.find_all('img',class_='cd7d5719fa')"
   ]
  },
  {
   "cell_type": "code",
   "execution_count": 66,
   "id": "371ff772-fb32-4c25-b60d-c06890b8135b",
   "metadata": {},
   "outputs": [],
   "source": [
    "Hotel_urls = []\n",
    "for url in urls:\n",
    "    Hotel_urls.append(url['src'])"
   ]
  },
  {
   "cell_type": "code",
   "execution_count": 67,
   "id": "4b3717ab-62c2-41bb-b151-0a7ff9a2a1c6",
   "metadata": {},
   "outputs": [
    {
     "data": {
      "text/plain": [
       "['https://cf.bstatic.com/xdata/images/hotel/square240/511175372.webp?k=42152b28b4b3dfee3c43b93136f9e05f99d6520b8edbbf23ccc2bc509d3ddd06&o=',\n",
       " 'https://cf.bstatic.com/xdata/images/hotel/square240/406097728.webp?k=87bf6d523cc8ae27c1a62e0ba96df81224ad729f72c18109ee5d913ac7341651&o=',\n",
       " 'https://cf.bstatic.com/xdata/images/hotel/square240/530057449.webp?k=a40888b93b67a99ac8364fef965e8a3a31dfb9e0f17b43d301ec81f79c81b9b7&o=',\n",
       " 'https://cf.bstatic.com/xdata/images/hotel/square240/531447769.webp?k=eccbf197a94849211a494a0587449b17daa5b7fb80a881e139001d994ad09789&o=',\n",
       " 'https://cf.bstatic.com/xdata/images/hotel/square240/468350674.webp?k=0b26a9cb82ae9fd2cec4a729f22cd8ca1a1d2016bd51c93fa56348db87d68494&o=']"
      ]
     },
     "execution_count": 67,
     "metadata": {},
     "output_type": "execute_result"
    }
   ],
   "source": [
    "Hotel_urls[:5]"
   ]
  },
  {
   "cell_type": "markdown",
   "id": "3a95dd9c-b183-4beb-ada5-b2d1a78db879",
   "metadata": {},
   "source": [
    "## craeting a dataframe"
   ]
  },
  {
   "cell_type": "code",
   "execution_count": 68,
   "id": "cc873d05-4309-4e94-bdae-1ebd588de2d3",
   "metadata": {},
   "outputs": [],
   "source": [
    "columns = ['Hotel','Overview','Location','Hotel_imgURL','Distance','Price','Ratings']\n",
    "hotel_data = list(zip(hotels, hotel_desc,hotel_location,Hotel_urls,Hotel_dist,Prices,hotel_ratings))\n",
    "df = pd.DataFrame(hotel_data,columns=columns)"
   ]
  },
  {
   "cell_type": "code",
   "execution_count": 69,
   "id": "6293b749-caf9-4846-a6e4-afe43168812a",
   "metadata": {},
   "outputs": [
    {
     "data": {
      "text/html": [
       "<div>\n",
       "<style scoped>\n",
       "    .dataframe tbody tr th:only-of-type {\n",
       "        vertical-align: middle;\n",
       "    }\n",
       "\n",
       "    .dataframe tbody tr th {\n",
       "        vertical-align: top;\n",
       "    }\n",
       "\n",
       "    .dataframe thead th {\n",
       "        text-align: right;\n",
       "    }\n",
       "</style>\n",
       "<table border=\"1\" class=\"dataframe\">\n",
       "  <thead>\n",
       "    <tr style=\"text-align: right;\">\n",
       "      <th></th>\n",
       "      <th>Hotel</th>\n",
       "      <th>Overview</th>\n",
       "      <th>Location</th>\n",
       "      <th>Hotel_imgURL</th>\n",
       "      <th>Distance</th>\n",
       "      <th>Price</th>\n",
       "      <th>Ratings</th>\n",
       "    </tr>\n",
       "  </thead>\n",
       "  <tbody>\n",
       "    <tr>\n",
       "      <th>0</th>\n",
       "      <td>Erivy Kenyan Paradise</td>\n",
       "      <td>One-Bedroom Apartment</td>\n",
       "      <td>Nairobi</td>\n",
       "      <td>https://cf.bstatic.com/xdata/images/hotel/squa...</td>\n",
       "      <td>4.2 km from downtown</td>\n",
       "      <td>Price KES 95,521</td>\n",
       "      <td>Scored 8.1</td>\n",
       "    </tr>\n",
       "    <tr>\n",
       "      <th>1</th>\n",
       "      <td>Marrkson Suites</td>\n",
       "      <td>Standard Double Room</td>\n",
       "      <td>Kilimani, Nairobi</td>\n",
       "      <td>https://cf.bstatic.com/xdata/images/hotel/squa...</td>\n",
       "      <td>2.5 km from downtown</td>\n",
       "      <td>Price KES 190,323</td>\n",
       "      <td>Scored 7.8</td>\n",
       "    </tr>\n",
       "    <tr>\n",
       "      <th>2</th>\n",
       "      <td>Epitome Times Hotel</td>\n",
       "      <td>Budget Double Room</td>\n",
       "      <td>Nairobi CBD, Nairobi</td>\n",
       "      <td>https://cf.bstatic.com/xdata/images/hotel/squa...</td>\n",
       "      <td>1.6 km from downtown</td>\n",
       "      <td>Price KES 36,844</td>\n",
       "      <td>Scored 6.8</td>\n",
       "    </tr>\n",
       "    <tr>\n",
       "      <th>3</th>\n",
       "      <td>Fahari Bliss Hotel</td>\n",
       "      <td>Standard Double Room</td>\n",
       "      <td>Nairobi CBD, Nairobi</td>\n",
       "      <td>https://cf.bstatic.com/xdata/images/hotel/squa...</td>\n",
       "      <td>1.2 km from downtown</td>\n",
       "      <td>Price KES 38,783</td>\n",
       "      <td>Scored 5.9</td>\n",
       "    </tr>\n",
       "    <tr>\n",
       "      <th>4</th>\n",
       "      <td>Plus254 Hotel</td>\n",
       "      <td>Studio</td>\n",
       "      <td>Nairobi</td>\n",
       "      <td>https://cf.bstatic.com/xdata/images/hotel/squa...</td>\n",
       "      <td>1.6 km from downtown</td>\n",
       "      <td>Price KES 42,122</td>\n",
       "      <td>Scored 7.0</td>\n",
       "    </tr>\n",
       "  </tbody>\n",
       "</table>\n",
       "</div>"
      ],
      "text/plain": [
       "                   Hotel               Overview              Location  \\\n",
       "0  Erivy Kenyan Paradise  One-Bedroom Apartment               Nairobi   \n",
       "1        Marrkson Suites   Standard Double Room     Kilimani, Nairobi   \n",
       "2    Epitome Times Hotel     Budget Double Room  Nairobi CBD, Nairobi   \n",
       "3     Fahari Bliss Hotel   Standard Double Room  Nairobi CBD, Nairobi   \n",
       "4          Plus254 Hotel                 Studio               Nairobi   \n",
       "\n",
       "                                        Hotel_imgURL              Distance  \\\n",
       "0  https://cf.bstatic.com/xdata/images/hotel/squa...  4.2 km from downtown   \n",
       "1  https://cf.bstatic.com/xdata/images/hotel/squa...  2.5 km from downtown   \n",
       "2  https://cf.bstatic.com/xdata/images/hotel/squa...  1.6 km from downtown   \n",
       "3  https://cf.bstatic.com/xdata/images/hotel/squa...  1.2 km from downtown   \n",
       "4  https://cf.bstatic.com/xdata/images/hotel/squa...  1.6 km from downtown   \n",
       "\n",
       "               Price      Ratings  \n",
       "0   Price KES 95,521  Scored 8.1   \n",
       "1  Price KES 190,323  Scored 7.8   \n",
       "2   Price KES 36,844  Scored 6.8   \n",
       "3   Price KES 38,783  Scored 5.9   \n",
       "4   Price KES 42,122  Scored 7.0   "
      ]
     },
     "execution_count": 69,
     "metadata": {},
     "output_type": "execute_result"
    }
   ],
   "source": [
    "df.head()"
   ]
  },
  {
   "cell_type": "markdown",
   "id": "18ba28ac-1a4c-445a-a01d-182b6b031993",
   "metadata": {},
   "source": [
    "## saving the data"
   ]
  },
  {
   "cell_type": "code",
   "execution_count": 70,
   "id": "cca9c787-e4fc-4045-a42b-cbd45e2077bb",
   "metadata": {},
   "outputs": [],
   "source": [
    "df.to_csv('HotelBookings.csv')"
   ]
  },
  {
   "cell_type": "code",
   "execution_count": null,
   "id": "4db9161d-905f-44da-a753-910a3d2f9298",
   "metadata": {},
   "outputs": [],
   "source": []
  }
 ],
 "metadata": {
  "kernelspec": {
   "display_name": "deepgpu",
   "language": "python",
   "name": "deepgpu"
  },
  "language_info": {
   "codemirror_mode": {
    "name": "ipython",
    "version": 3
   },
   "file_extension": ".py",
   "mimetype": "text/x-python",
   "name": "python",
   "nbconvert_exporter": "python",
   "pygments_lexer": "ipython3",
   "version": "3.10.14"
  }
 },
 "nbformat": 4,
 "nbformat_minor": 5
}
